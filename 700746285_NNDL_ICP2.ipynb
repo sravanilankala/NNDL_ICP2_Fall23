{
  "nbformat": 4,
  "nbformat_minor": 0,
  "metadata": {
    "colab": {
      "provenance": []
    },
    "kernelspec": {
      "name": "python3",
      "display_name": "Python 3"
    },
    "language_info": {
      "name": "python"
    }
  },
  "cells": [
    {
      "cell_type": "code",
      "execution_count": 1,
      "metadata": {
        "colab": {
          "base_uri": "https://localhost:8080/"
        },
        "id": "PtO3729IgLLB",
        "outputId": "e9299510-8e79-4bf0-8abe-e31744a6d63e"
      },
      "outputs": [
        {
          "output_type": "stream",
          "name": "stdout",
          "text": [
            "Enter your last name: Lankala\n",
            "Enter your first name: Sravani\n",
            "Full name:  Sravani Lankala\n"
          ]
        }
      ],
      "source": [
        "# 1a. Write a program that takes two strings from the user: first_name, last_name. Pass these variables to fullname function that should return the (full name).\n",
        "# For example:\n",
        "# First_name = “your first name”, last_name = “your last name”\n",
        "# Full_name = “your full name”\n",
        "\n",
        "# Ask user to provide first name and last name\n",
        "last_name = input (\"Enter your last name: \")\n",
        "first_name = input(\"Enter your first name: \")\n",
        "\n",
        "# Fullname is a function which takes 2 parameters first_name and last_name\n",
        "def Fullname(fisrt_name, last_name):\n",
        "    Full_name = first_name + \" \" + last_name\n",
        "    return Full_name\n",
        "\n",
        "# call 'Fullname' function and pass variables\n",
        "Full_name = Fullname(first_name, last_name)\n",
        "\n",
        "# Print the output as fullname\n",
        "print(\"Full name: \", Full_name)\n"
      ]
    },
    {
      "cell_type": "code",
      "source": [
        "# 1b. Write function named “string_alternative” that returns every other char in the full_name string.\n",
        "# Str = “Good evening”\n",
        "# Output: Go vnn\n",
        "# Note: You need to create a function named “string_alternative” for this program and call it from main function.\n",
        "\n",
        "# Define Fullname as function which takes 2 parameters first_name and last_name\n",
        "def Fullname(fisrt_name, last_name):\n",
        "    Full_name = first_name + \" \" + last_name\n",
        "    return Full_name\n",
        "\n",
        "# Define 'string_alternative' as function which takes input and slices with a step of 2\n",
        "def string_alternative(input_string):\n",
        "    return input_string[::2]\n",
        "\n",
        "# Ask user to provide first name and last name\n",
        "last_name = input (\"Enter your last name: \")\n",
        "first_name = input(\"Enter your first name: \")\n",
        "\n",
        "# Function call with user provided first_name & last_name\n",
        "Full_name = Fullname(first_name, last_name)\n",
        "\n",
        "# string_alternative function is used to extract alternative chars from fullname\n",
        "alternating_chars = string_alternative(Full_name)\n",
        "\n",
        "# Print output as full name and alternate chars\n",
        "print(\"Full Name: \", Full_name)\n",
        "print(\"Alternating Characters: \", alternating_chars)"
      ],
      "metadata": {
        "colab": {
          "base_uri": "https://localhost:8080/"
        },
        "id": "uZdHoZlrlLUO",
        "outputId": "03d5edff-3813-482e-ebda-a1a30184ea41"
      },
      "execution_count": null,
      "outputs": [
        {
          "output_type": "stream",
          "name": "stdout",
          "text": [
            "Enter your last name: Lankala\n",
            "Enter your first name: Sravani\n",
            "Full Name:  Sravani Lankala\n",
            "Alternating Characters:  SaaiLnaa\n"
          ]
        }
      ]
    },
    {
      "cell_type": "code",
      "source": [
        "# 2. Write a python program to find the wordcount in a file (input.txt) for each line and then print the output.\n",
        "# Finally store the output in output.txt file.\n",
        "\n",
        "from os import remove\n",
        "#Open the file in read mode\n",
        "text = open(\"/content/input.txt\",\"r\")\n",
        "d = dict()\n",
        "for line in text:\n",
        "\n",
        " line = line.strip()\n",
        " words = line.split(\" \")\n",
        " for word in words:\n",
        "    if word in d:\n",
        "        d[word]= d[word] + 1\n",
        "    else:\n",
        "        d[word] = 1\n",
        "\n",
        "text = open(\"/content/input.txt\",\"r\")\n",
        "output = text.read()\n",
        "f= open(\"/content/output.txt\",\"w\")\n",
        "\n",
        "f.write(output)\n",
        "f.write(\"\\n Word_Count:\\n\")\n",
        "with open(\"output.txt\",\"a\") as f:\n",
        "  for key, value in d.items():\n",
        "    f.write('%s:%s\\n' % (key, value))\n"
      ],
      "metadata": {
        "id": "KexE7tYgnW_T"
      },
      "execution_count": 2,
      "outputs": []
    },
    {
      "cell_type": "code",
      "source": [
        "# 3. Write a program, which reads heights (inches.) of customers into a list and convert these heights to centimeters in a separate list using:\n",
        "# 1) Nested Interactive loop.\n",
        "# 2) List comprehensions\n",
        "# Example: L1: [150,155, 145, 148]\n",
        "# Output: [68.03, 70.3, 65.77, 67.13]\n",
        "\n",
        "L1=[150,155,145,148]\n",
        "cm=[]\n",
        "for i in L1:\n",
        "  cm.append(i*2.45)\n",
        "L2 = [i*2.45 for i in L1]\n",
        "\n",
        "print(cm)\n",
        "print(L2)"
      ],
      "metadata": {
        "colab": {
          "base_uri": "https://localhost:8080/"
        },
        "id": "s1qeJxlIklpU",
        "outputId": "af7dc763-eeea-45b0-956e-ad6dfc23fc50"
      },
      "execution_count": null,
      "outputs": [
        {
          "output_type": "stream",
          "name": "stdout",
          "text": [
            "[367.5, 379.75, 355.25, 362.6]\n",
            "[367.5, 379.75, 355.25, 362.6]\n"
          ]
        }
      ]
    }
  ]
}